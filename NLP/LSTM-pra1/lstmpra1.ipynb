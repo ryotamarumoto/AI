{
 "cells": [
  {
   "cell_type": "code",
   "execution_count": 3,
   "id": "10f7f9b3-dd62-4142-9d6d-e5374d079778",
   "metadata": {},
   "outputs": [
    {
     "name": "stdout",
     "output_type": "stream",
     "text": [
      "156060 66292\n"
     ]
    }
   ],
   "source": [
    "import pandas as pd\n",
    "import numpy as np\n",
    "\n",
    "train_data = pd.read_csv('train.tsv', delimiter = '\\t')\n",
    "test_data = pd.read_csv('test.tsv', delimiter = '\\t')\n",
    "\n",
    "print(len(train_data), (len(test_data)))"
   ]
  },
  {
   "cell_type": "code",
   "execution_count": 6,
   "id": "35f478fa-6a2a-42d7-8c8d-db1ee9ee5a1f",
   "metadata": {},
   "outputs": [
    {
     "name": "stdout",
     "output_type": "stream",
     "text": [
      "(156060, 5)\n"
     ]
    }
   ],
   "source": [
    "Y = train_data['Sentiment']\n",
    "Y = np.array(Y)\n",
    "Y = Y.reshape(-1, 1)\n",
    "\n",
    "from tensorflow.keras.utils import to_categorical\n",
    "\n",
    "Y = to_categorical(Y)\n",
    "print(Y.shape)"
   ]
  },
  {
   "cell_type": "code",
   "execution_count": 7,
   "id": "00555009-e645-48c8-87c7-958ccb9a99f4",
   "metadata": {},
   "outputs": [
    {
     "name": "stdout",
     "output_type": "stream",
     "text": [
      "222352\n"
     ]
    }
   ],
   "source": [
    "train = train_data['Phrase']\n",
    "test = test_data['Phrase']\n",
    "\n",
    "total_data = pd.concat([train, test], axis=0)\n",
    "print(len(total_data))"
   ]
  },
  {
   "cell_type": "code",
   "execution_count": null,
   "id": "f638083b-b52a-499a-9323-512e2f7ef928",
   "metadata": {},
   "outputs": [],
   "source": [
    "https://qiita.com/hara_tatsu/items/c3ba100e95e600846125"
   ]
  },
  {
   "cell_type": "code",
   "execution_count": null,
   "id": "ae2748f5-56f8-4bc3-9195-afad5b84bf25",
   "metadata": {},
   "outputs": [],
   "source": []
  },
  {
   "cell_type": "code",
   "execution_count": null,
   "id": "7b3dfe93-e491-4eb2-832a-e28044802ded",
   "metadata": {},
   "outputs": [],
   "source": []
  },
  {
   "cell_type": "code",
   "execution_count": null,
   "id": "c7a264d8-3abe-481a-95b5-9a23fe65e80d",
   "metadata": {},
   "outputs": [],
   "source": []
  },
  {
   "cell_type": "code",
   "execution_count": null,
   "id": "0f982f11-96c0-45eb-b820-56815c04fd83",
   "metadata": {},
   "outputs": [],
   "source": []
  },
  {
   "cell_type": "code",
   "execution_count": null,
   "id": "07c5e9d7-8e4d-4323-9eeb-e53413ea1849",
   "metadata": {},
   "outputs": [],
   "source": []
  },
  {
   "cell_type": "code",
   "execution_count": null,
   "id": "2f53a96c-41ce-4593-ad15-a38f7d768eb8",
   "metadata": {},
   "outputs": [],
   "source": []
  },
  {
   "cell_type": "code",
   "execution_count": null,
   "id": "3246cf1a-2585-4bf2-87b3-15b2c4a2be76",
   "metadata": {},
   "outputs": [],
   "source": []
  },
  {
   "cell_type": "code",
   "execution_count": null,
   "id": "9320a920-90b7-40a7-b3dc-ac64efbad7b6",
   "metadata": {},
   "outputs": [],
   "source": []
  },
  {
   "cell_type": "code",
   "execution_count": null,
   "id": "1aca3bbb-4ce1-46c1-90f7-31c87f47ff0c",
   "metadata": {},
   "outputs": [],
   "source": []
  },
  {
   "cell_type": "code",
   "execution_count": null,
   "id": "bedd16b8-3bf9-482c-a3b8-510f990acef5",
   "metadata": {},
   "outputs": [],
   "source": []
  },
  {
   "cell_type": "code",
   "execution_count": null,
   "id": "c8756013-a17b-4537-90bf-ab85422cc8d4",
   "metadata": {},
   "outputs": [],
   "source": []
  },
  {
   "cell_type": "code",
   "execution_count": null,
   "id": "c35ec59c-935f-48b8-883a-4ff6d13934ae",
   "metadata": {},
   "outputs": [],
   "source": []
  },
  {
   "cell_type": "code",
   "execution_count": null,
   "id": "9d59c5e6-ff16-48dc-b3cd-84527f835aea",
   "metadata": {},
   "outputs": [],
   "source": []
  },
  {
   "cell_type": "code",
   "execution_count": null,
   "id": "411542ae-16f6-4493-a36b-a4ee3cf5a9d2",
   "metadata": {},
   "outputs": [],
   "source": []
  }
 ],
 "metadata": {
  "kernelspec": {
   "display_name": "Python 3 (ipykernel)",
   "language": "python",
   "name": "python3"
  },
  "language_info": {
   "codemirror_mode": {
    "name": "ipython",
    "version": 3
   },
   "file_extension": ".py",
   "mimetype": "text/x-python",
   "name": "python",
   "nbconvert_exporter": "python",
   "pygments_lexer": "ipython3",
   "version": "3.8.13"
  }
 },
 "nbformat": 4,
 "nbformat_minor": 5
}
